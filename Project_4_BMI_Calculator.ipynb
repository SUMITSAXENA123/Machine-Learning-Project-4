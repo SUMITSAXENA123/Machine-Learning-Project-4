{
  "nbformat": 4,
  "nbformat_minor": 0,
  "metadata": {
    "colab": {
      "provenance": [],
      "authorship_tag": "ABX9TyOnCltpNH2R4/eZ8kr7hrMa",
      "include_colab_link": true
    },
    "kernelspec": {
      "name": "python3",
      "display_name": "Python 3"
    },
    "language_info": {
      "name": "python"
    }
  },
  "cells": [
    {
      "cell_type": "markdown",
      "metadata": {
        "id": "view-in-github",
        "colab_type": "text"
      },
      "source": [
        "<a href=\"https://colab.research.google.com/github/SUMITSAXENA123/Machine-Learning-Project-4/blob/main/Project_4_BMI_Calculator.ipynb\" target=\"_parent\"><img src=\"https://colab.research.google.com/assets/colab-badge.svg\" alt=\"Open In Colab\"/></a>"
      ]
    },
    {
      "cell_type": "markdown",
      "source": [
        "# **BMI CALCULATOR**"
      ],
      "metadata": {
        "id": "Hxe6V2xHBElp"
      }
    },
    {
      "cell_type": "code",
      "source": [
        "#BMI = (weight in pounds x 703) / (height in inches x height in inches)"
      ],
      "metadata": {
        "id": "rlrm8iJ-CN4W"
      },
      "execution_count": 4,
      "outputs": []
    },
    {
      "cell_type": "code",
      "execution_count": 3,
      "metadata": {
        "colab": {
          "base_uri": "https://localhost:8080/"
        },
        "id": "iTCKqhViBC1l",
        "outputId": "5f2b84ce-e4e6-4a14-88dd-3d187f3482fe"
      },
      "outputs": [
        {
          "output_type": "stream",
          "name": "stdout",
          "text": [
            "Enter you name: SUMIT SAXENA\n",
            "Enter your weight in pounds: 132.277\n",
            "Enter your height in inches: 70\n",
            "18.97770020408163\n",
            "SUMIT SAXENA, you are normal weight.\n"
          ]
        }
      ],
      "source": [
        "name = input(\"Enter you name: \")\n",
        "\n",
        "weight = float(input(\"Enter your weight in pounds: \"))\n",
        "\n",
        "height = int(input(\"Enter your height in inches: \"))\n",
        "\n",
        "BMI = (weight * 703) / (height * height)\n",
        "\n",
        "print(BMI)\n",
        "\n",
        "if BMI>0:\n",
        "    if(BMI<18.5):\n",
        "        print(name +\", you are underwight.\")\n",
        "    elif (BMI<=24.9):\n",
        "        print(name +\", you are normal weight.\")\n",
        "    elif (BMI<29.9):\n",
        "        print(name +\", you are overweight. You need to exercise more and stop sitting and writing so many python tutorials.\")\n",
        "    elif (BMI<34.9):\n",
        "        print(name +\", you are obese.\")\n",
        "    elif (BMI<39.9):\n",
        "        print(name +\", you are severely obese.\")\n",
        "    else:\n",
        "        print(name +\", you are morbidly obese.\")\n",
        "else:\n",
        "    print(\"Enter valid input\")"
      ]
    }
  ]
}